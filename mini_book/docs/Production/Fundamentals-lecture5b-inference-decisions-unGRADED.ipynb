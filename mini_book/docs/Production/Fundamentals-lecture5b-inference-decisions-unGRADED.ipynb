{
  "cells": [
    {
      "cell_type": "markdown",
      "source": [
        "## Inference and Decisions\n",
        "\n",
        "We have been talking about probability and have some tools under our belt for manipulating distributions and estimating parameters.  How do we turn this into a decision?  Here we will discuss some measures that might help inform that decision.\n",
        "\n",
        "  \n",
        "General references:\n",
        "  \n",
        "+ Statistical Inference (9780534243128): Casella, George, Berger, Roger L.  \n",
        "+ Probability Theory and Statistical Inference: Empirical Modeling with Observational Data (9781107185142): Spanos, A.  \n",
        "+ Bayesian Models: A Statistical Primer for Ecologists (9780691159287): Hobbs, N. Thompson, Hooten, Mevin B.  \n",
        "+ A First Course in Bayesian Statistical Methods (0387922997): Hoff, Peter D.\n",
        "  \n",
        "\n",
        "<br>\n",
        "<br>\n",
        "<hr style=\"border:2px solid blue\"> </hr>"
      ],
      "metadata": {
        "application/vnd.databricks.v1+cell": {
          "title": "",
          "showTitle": false,
          "inputWidgets": {},
          "nuid": "ea18e4f4-993e-4ec3-b444-78a6613093e9"
        }
      }
    },
    {
      "cell_type": "markdown",
      "source": [
        "### Classification\n",
        "\n",
        "In the last section, we gave an example of taking a test for determining the status of a disease.  We took the test and discovered a positive result which led to a probability that we are truly infected given the positive test of 79%.  The odds are, we have the disease.  Are we sure enough that we will seek appropriate treatment or perhaps we want a second opinion?  Is there a second test?  Do we simply take two tests and combine the results?  When we build a computational model, we repeatedly ask this question and have to make a decision, do we continue in the current direction or go from whence we came. The consequences of making a wrong choice are often not symmetric.  Our overall goal is to simply be right, but understanding consequence discrepancies may suggest wrong answers are not all the same.  In this example we may choose to weigh a wrong answer differently in one direction than another.\n",
        "\n",
        "Restating this in terms of probability, for a binary decision, our goal is:\n",
        "\n",
        "$$\\text{argmin } p(mistake) = \\sum_{i=1}^k p(x_{k \\notin j},C_k)$$ where j/k are class labels.\n",
        "\n",
        "#### Rejection regions or decision boundaries\n",
        "\n",
        "In our decision, we may choose a region for inclusion in one class or another, for instance, we may decide the optimal boundary in our disease classification is at $p(disease|+test)>75%$.  Note that the decision boundary should partition the space.  Written with a decision boundary, \n",
        "\n",
        "$$\\text{argmin } p(mistake) = \\int_{\\mathbb{R_1}} p(x,C_2) dx + \\int_{\\mathbb{R_2}} p(x,C_1) dx$$\n",
        "\n",
        "\n",
        "Returning to the coin toss experiment, after we perform the experiment many times, we can arrange the data and find the regions to the right/left that give the desired partions between 'fair' and 'biased' based on our tolerance for error."
      ],
      "metadata": {
        "application/vnd.databricks.v1+cell": {
          "title": "",
          "showTitle": false,
          "inputWidgets": {},
          "nuid": "e1ce7947-c71b-463c-b39a-e26d5e4e1d35"
        }
      }
    },
    {
      "cell_type": "code",
      "source": [
        "import numpy as np\n",
        "import random as random\n",
        "import matplotlib.pyplot as plt\n",
        "\n",
        "# define an experiment as flipping Ncoins\n",
        "# we will repeat the experiment Ntrials times\n",
        "# for each experiment, we record the fraction of heads(1's) observed\n",
        "\n",
        "def do_one_trial(pheads=0.5, Ncoins=10):\n",
        "    coin = [1,0] #H=1, T=0\n",
        "    total_flips = 1000 \n",
        "    toss_results = random.choices(coin,k=Ncoins,weights=[pheads,1-pheads])\n",
        "    fraction_successes = float(sum(toss_results)/Ncoins) # success = head\n",
        "    return fraction_successes\n",
        "\n",
        "def do_many_trials(pheads=0.5, Ntrials=1000, Ncoins=20):\n",
        "    resultarr = []\n",
        "    for i in range(0, Ntrials):\n",
        "        resultarr.append(do_one_trial(pheads=pheads, Ncoins=Ncoins))\n",
        "    return resultarr\n",
        "\n",
        "# looking to get the bounds of the rejection region for plotting\n",
        "def get_thresh_2tail(trial_data, significance=.1):\n",
        "    sorted_results = np.array(sorted(trial_data))\n",
        "    twotailedsig = significance/2.\n",
        "    # sum from left to right to find left most bound\n",
        "    for val in sorted_results:\n",
        "        integral = float(len(sorted_results[sorted_results<val]))/len(sorted_results)\n",
        "        if integral > twotailedsig:\n",
        "            lowerbound = val\n",
        "            break\n",
        "    # sum from right to left to find right most bound\n",
        "    for val in sorted_results[::-1]:\n",
        "        integral = float(len(sorted_results[sorted_results>val]))/len(sorted_results)\n",
        "        if integral > twotailedsig:\n",
        "            upperbound = val\n",
        "            break\n",
        "    return lowerbound, upperbound\n",
        "\n",
        "coin_experiment_data = do_many_trials(pheads=0.5, Ntrials=100, Ncoins=20)\n",
        "lowerbound, upperbound = get_thresh_2tail(coin_experiment_data, significance=0.1)\n",
        "\n",
        "# plot data with rejection regions\n",
        "hist, bins = np.histogram(coin_experiment_data, bins = np.linspace(0,1,11), density=True)\n",
        "hist = np.concatenate([hist,[0.]])\n",
        "plt.plot(bins, hist, drawstyle='steps-post')\n",
        "plt.xlabel('Fraction of Heads')\n",
        "plt.axvline(lowerbound, color='orange')\n",
        "plt.axvline(upperbound, color='orange')\n",
        "plt.xlim(0, 1)\n",
        "\n",
        "print(\"bounds are:\")\n",
        "print([lowerbound, upperbound])\n",
        "plt.show()"
      ],
      "outputs": [
        {
          "output_type": "display_data",
          "data": {
            "text/html": "<style scoped>\n  .ansiout {\n    display: block;\n    unicode-bidi: embed;\n    white-space: pre-wrap;\n    word-wrap: break-word;\n    word-break: break-all;\n    font-family: \"Source Code Pro\", \"Menlo\", monospace;;\n    font-size: 13px;\n    color: #555;\n    margin-left: 4px;\n    line-height: 19px;\n  }\n</style>\n<div class='ansiout'>bounds are:\n[0.35, 0.6]\n</div>"
          },
          "metadata": {
            "application/vnd.databricks.v1+output": {
              "datasetInfos": [],
              "data": "<div class='ansiout'>bounds are:\n[0.35, 0.6]\n</div>",
              "removedWidgets": [],
              "addedWidgets": {},
              "metadata": {},
              "type": "html",
              "arguments": {}
            }
          }
        },
        {
          "output_type": "display_data",
          "data": {
            "image/png": "[encoded data removed]"
          },
          "metadata": {
            "application/vnd.databricks.v1+output": {
              "datasetInfos": [],
              "data": "data:image/png;base64,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\n",
              "removedWidgets": [],
              "addedWidgets": {},
              "metadata": {},
              "type": "image",
              "arguments": {}
            }
          }
        }
      ],
      "execution_count": 0,
      "metadata": {
        "application/vnd.databricks.v1+cell": {
          "title": "",
          "showTitle": false,
          "inputWidgets": {},
          "nuid": "84a6c526-d307-4d43-a4a0-a31f9c55823d"
        }
      }
    },
    {
      "cell_type": "markdown",
      "source": [
        "Knowing we are going to make mistakes, we introduce the idea of a loss function.  Loss functions (also called cost functions or as a positive, a utility functions), is a function that we create that captures the goal of minimizing errors, but allows for differences in magnitude for consequences of the mistakes. The goal is now to minimize the average loss:\n",
        "\n",
        "$$E[loss] = \\sum_k \\sum_j \\int_{\\mathbb{R_j}} L_{kj}p(x,C_k) dx$$\n",
        "\n",
        "\n",
        "#### Loss functions\n",
        "\n",
        "Loss functions are functions created to match our goals with penalties to steer our algorithm to beneficial regions.  As an example, consider the follow loss function:\n",
        "\n",
        "$$\\begin{matrix} & \\text{disease} & \\text{no disease} \\\\ \\text{disease} & 0 & 100 \\\\\\text{no disease} & 1 & 0 \\end{matrix}$$\n",
        "\n",
        "Here we are assigning zero loss for correct responses, 1 loss for cases where we predict \"no disease\" but the true state is \"disease\" and finally, 100 loss for cases of incorrectly predicting \"disease\".  The loss function here is implicitly penalizing false positives more than false negatives (see Confusion Matrix at end).\n",
        "\n",
        "$$L(\\theta,a) = \n",
        "\\begin{cases}\n",
        "    0, \\text{for {(predict disease, actual disease),(predict no disease, actual no disease)}} \\\\\n",
        "    1, \\text{for predict no disease, actual disease} \\\\\n",
        "    100, \\text{for predict disease, actual no disease} \\\\\n",
        "\\end{cases}\n",
        "$$\n",
        "\n",
        "\n",
        "#### Cross Entropy Loss\n",
        "\n",
        "Any loss function which is the negative log likelihood between the empirical distribution of the data and the probability distribution of the model is a cross entropy loss.\n",
        "\n",
        "Often, when one talks about cross entropy loss, the meaning is for binary classification.  In fact, cross entropy loss, also called log loss, is the go-to function for binary classification tasks.  It is the log likelihood for a Bernoulli trial.\n",
        "\n",
        "$$-y_i ln(\\hat{\\theta}_i) - (1-y_i) ln (1-\\hat{\\theta}_i)$$\n",
        "\n",
        "Cross entropy loss is nice in that it penalizes heavily for very wrong results.  In this case, the true labels are the \\\\(y_i\\\\)'s while our predictions are the associated probabilities (\\\\(\\hat{\\theta}_i\\\\)'s). Note, there is no 'reward' in cross entropy loss, the best you can do is 0 when the output is correct."
      ],
      "metadata": {
        "application/vnd.databricks.v1+cell": {
          "title": "",
          "showTitle": false,
          "inputWidgets": {},
          "nuid": "9182acad-50c0-4301-8387-ac7a75871608"
        }
      }
    },
    {
      "cell_type": "code",
      "source": [
        "import numpy as np\n",
        "predictions = np.array([[0.95,0.05],\n",
        "                        [0.15,0.85],\n",
        "                        [0.75,0.25],\n",
        "                        [0.04,0.96]]) #predictions are A,B,B,A\n",
        "targets = np.array([[1,0],\n",
        "                    [1,0],\n",
        "                    [0,1],\n",
        "                   [0,1]]) #correct classes are A,A,B,B\n",
        "\n",
        "epsilon=1e-10 # avoid log of zero\n",
        "predictions = np.clip(predictions, epsilon, 1. - epsilon)\n",
        "N = predictions.shape[0]\n",
        "x = targets * np.log(predictions+1e-7)\n",
        "print(\"Penalties for each prediction\")\n",
        "print(x)\n",
        "ce_loss = -np.sum(x)/N\n",
        "print (\"Total cross entropy loss is: \" + str(ce_loss))\n"
      ],
      "outputs": [
        {
          "output_type": "display_data",
          "data": {
            "text/html": "<style scoped>\n  .ansiout {\n    display: block;\n    unicode-bidi: embed;\n    white-space: pre-wrap;\n    word-wrap: break-word;\n    word-break: break-all;\n    font-family: \"Source Code Pro\", \"Menlo\", monospace;;\n    font-size: 13px;\n    color: #555;\n    margin-left: 4px;\n    line-height: 19px;\n  }\n</style>\n<div class='ansiout'>Penalties for each prediction\n[[-0.05129319 -0.        ]\n [-1.89711932 -0.        ]\n [-0.         -1.38629396]\n [-0.         -0.04082189]]\nTotal cross entropy loss is: 0.8438820897043499\n</div>"
          },
          "metadata": {
            "application/vnd.databricks.v1+output": {
              "datasetInfos": [],
              "data": "<div class='ansiout'>Penalties for each prediction\n[[-0.05129319 -0.        ]\n [-1.89711932 -0.        ]\n [-0.         -1.38629396]\n [-0.         -0.04082189]]\nTotal cross entropy loss is: 0.8438820897043499\n</div>",
              "removedWidgets": [],
              "addedWidgets": {},
              "metadata": {},
              "type": "html",
              "arguments": {}
            }
          }
        }
      ],
      "execution_count": 0,
      "metadata": {
        "application/vnd.databricks.v1+cell": {
          "title": "",
          "showTitle": false,
          "inputWidgets": {},
          "nuid": "b390f0ef-53f3-46bc-a3cb-d67655b14c67"
        }
      }
    },
    {
      "cell_type": "markdown",
      "source": [
        "Note that this can easily be extended to the case of multiple categories.\n",
        "\n",
        "#### Categorical cross entropy loss\n",
        "\n",
        "$$\\text{CE loss }= - \\sum_{i=1}^I \\sum_{k=1}^K \\mathbb{1}_{y_i = k}log p(y_i = k | x_i,\\theta)$$\n",
        "\n",
        "This looks completely different, but understanding the terms will quickly lead to a familiar setup.  The CE loss is a sum of the probabilities assigned to the predicted class.  The \\\\(\\mathbb{1}\\\\) is an indicator function determining which class is the correct class while the \\\\(p(y_i = k | x_i,\\theta)\\\\) is the likelihood of the correct class given the data.  In the case of two categories, this reduces to the cross entropy case above.\n",
        "\n",
        "\n",
        "#### Other classification loss functions\n",
        "\n",
        "**Focal loss** is a modified loss attempting to highlight the loss from incorrectly classified samples vs those that are classified correctly, but perhaps with less than perfect probability.\n",
        "\n",
        "$$FL = - \\sum_{i=1}^{C=2}(1-\\hat{\\theta}_i)^\\gamma t_i log(\\hat{\\theta}_i)$$ \n",
        "where \\\\((1-\\hat{\\theta}_i)^\\gamma\\\\) modulates the loss.  As the probability of the assignment goes towards 1 for correct responses, the contribution to the loss goes to 0 more quickly.\n",
        "\n",
        "**Hinge loss** is a maximum margin classifier.  Basically, this loss aims to make the classification more of a sure event.  The score of a correct assignment should exceed the sum of scores of incorrect assignments by some margin.\n",
        "\n",
        "$$HL = \\sum_{j \\ne y_i} max(0,s_j-s_{y_i}+1)$$"
      ],
      "metadata": {
        "application/vnd.databricks.v1+cell": {
          "title": "",
          "showTitle": false,
          "inputWidgets": {},
          "nuid": "d95f590a-2a07-4b57-8554-b9a076ca75ef"
        }
      }
    },
    {
      "cell_type": "markdown",
      "source": [
        "#### Continuous response\n",
        "\n",
        "In continuous responses, the goodness of fit measure is some function of distance.  \n",
        "\n",
        "##### Mean squared error \n",
        "\n",
        "Mean squared error, MSE, is defined as \n",
        "\n",
        "$$MSE = \\frac{1}{N} \\sum_{i=1}^N (y_i - \\hat{y_i})^2$$\n",
        "\n",
        "This has a number of nice features as a loss function including penalizing based on distance from the prediction and mathematical properties such as that it is differentiable and there is always a single solution.  MSE is sensitive to outliers, ie it is not robust to outliers.\n",
        "\n",
        "##### Mean absolute error \n",
        "\n",
        "Mean absolute error, MAE, is defined as \n",
        "\n",
        "$$MAE = \\frac{1}{N} \\sum_{i=1}^N |y_i - \\hat{y_i}|$$\n",
        "\n",
        "Like MSE, MAE returns the average of the magnitude of errors, but needs computational tools to deal with the lack of a differential.  MAE is less sensitive to outliers than MSE, however, there is no guarantee of a unique solution.\n",
        "\n",
        "##### L1 and L2 loss\n",
        "\n",
        "L1 loss is sum of absolute differences, also called the method of Least Absolute Deviations (LAD).  \\\\(L_1 = N \\ast MAE\\\\).  \n",
        "\n",
        "L2 loss is $N \\ast MSE$ also called least squares error, or LSE.\n",
        "\n",
        "##### Regularization \n",
        "\n",
        "Regularization is a technique to prevent overfitting through the addition of a penalty term to the sum of the regression coefficents.  For instance:\n",
        "\n",
        "$$argmin LSE + \\lambda \\sum_{i=1}^k|w_i|$$\n",
        "where the \\\\(w_i\\\\) are the weights being learned.\n",
        "\n",
        "The above woulld be an L1 regularization on least squares (LASSO).  There are other variations including L2 regularization (ridge regression) where the penalty is on the squared weights, elastic net (both L1 and L2 regularization), etc."
      ],
      "metadata": {
        "application/vnd.databricks.v1+cell": {
          "title": "",
          "showTitle": false,
          "inputWidgets": {},
          "nuid": "111426c5-68b4-4360-a261-349fb0197270"
        }
      }
    },
    {
      "cell_type": "markdown",
      "source": [
        "### Confusion matrix\n",
        "\n",
        "For binary classification problems, we have the confusion matrix. For a class known to be A, did we predict A or B? The result to that question can be summarized in the confusion matrix:\n",
        "\n",
        "\n",
        "|                     | Positive Class                    | Negative Class                       |\n",
        "|---------------------|-----------------------------------|--------------------------------------|\n",
        "| Positive Prediction | True Positive (TP)                | False Positive (FP) **Type I error** |\n",
        "| Negative Prediction | False Negative (FN) **Type II error** | True Negative (TN)              |\n",
        "\n",
        "The various cells give rise to the 4 possible cases: TP,FP,FN,TN.  Associated with these cases are marginal rates:\n",
        "\n",
        "True Positive Rate (TPR): TP/(TP+FN)  -- **Sensitivity**  \n",
        "False Positive Rate (FPR): FP/(FP+TN)  \n",
        "True Negative Rate (TNR): TN/(TN+FP)  -- **Specificity**  \n",
        "False Negative Rate (FNR): FN/(FN+TP)\n",
        "\n",
        "As an aside, we can map these to Bayes' Rule where\n",
        "\n",
        "P(A) = Probability of Positive Class (PC)  \n",
        "P(not A) = Probability of Negative Class (NC)  \n",
        "P(B) = Probability of Positive Prediction (PP)  \n",
        "P(not B) = Probability of Negative Prediction (NP)  \n",
        "\n",
        "$$P(A|B) = \\frac{P(B|A)*P(A)}{P(B)} = \\frac{TPR*PC}{TPR*PC + FPR*NC}$$\n",
        "\n",
        "\n",
        "Precision is also called the Positive Predictive Value.  \n",
        "$$precision = PPV = \\frac{TP}{TP+FP} = \\frac{TPR*PC}{PP}$$\n",
        "\n",
        "Recall is also known as sensitivity.  \n",
        "$$recall = \\frac{TP}{TP+FN}$$\n",
        "\n",
        "$$F_1 score = \\frac{precision*recall}{precision+recall}$$\n",
        "\n",
        "Type 1 error = false positive\n",
        "\n",
        "Type 2 error = false negative\n",
        "\n",
        "<br>\n",
        "<br>\n",
        "<hr style=\"border:2px solid blue\"> </hr>"
      ],
      "metadata": {
        "application/vnd.databricks.v1+cell": {
          "title": "",
          "showTitle": false,
          "inputWidgets": {},
          "nuid": "ad3a7a2a-1d2b-45aa-874a-c4eac4100ccd"
        }
      }
    },
    {
      "cell_type": "markdown",
      "source": [
        "#### GRADED EVALUATION (15 mins)\n",
        "\n",
        "1. Cost functions are measures of fit.  \n",
        "\n",
        "  a. true   \n",
        "  \n",
        "  b. false \n",
        "\n",
        "$$$$\n",
        "2. Cost functions are only useful in categorical decision settings.  \n",
        "\n",
        "  a. false    \n",
        "  \n",
        "  b. true  \n",
        "  \n",
        "$$$$\n",
        "3. The following is a valid example of a cost function:  \n",
        "\n",
        "  a. \n",
        "\n",
        "$$L(\\theta,a) = \n",
        "\\begin{cases}\n",
        "    0, \\text{for {(predict disease, actual disease),(predict no disease, actual no disease)}} \\\\\n",
        "    1, \\text{for predict no disease, actual no disease} \\\\\n",
        "    100, \\text{for predict disease, actual no disease} \\\\\n",
        "\\end{cases}\n",
        "$$\n",
        "\n",
        "  b. \n",
        "\n",
        "$$L(\\theta,a) = \n",
        "\\begin{cases}\n",
        "    0, \\text{for {(predict disease, actual disease),(predict no disease, actual no disease)}} \\\\\n",
        "    1, \\text{for predict no disease, actual disease} \\\\\n",
        "    100, \\text{for predict disease, actual no disease} \\\\\n",
        "\\end{cases}\n",
        "$$  \n",
        "\n",
        "$$$$\n",
        "4. In a recent study, you created a cost function for classification of 4 classes.  Following training, you obtained the following results.  What are the predictions for the samples in terms of thier class?  \n",
        "\n",
        "predictions = np.array([\n",
        "$$[0.25,0.25,0.20,0.30],$$\n",
        "                        $$[0.25,0.30,0.20,0.25],$$\n",
        "                        $$[0.10,0.25,0.25,0.40],$$\n",
        "                        $$[0.45,0.10,0.20,0.25],$$\n",
        "                        $$[0.01,0.01,0.01,0.96]])$$\n",
        "\n",
        "  a. A,B,C,B  \n",
        "\n",
        "  b. D,B,D,A,D   \n",
        "\n",
        "  c. D,B,C,E"
      ],
      "metadata": {
        "application/vnd.databricks.v1+cell": {
          "title": "",
          "showTitle": false,
          "inputWidgets": {},
          "nuid": "793f15ac-55f2-4ea9-bd65-390fefbccea6"
        }
      }
    },
    {
      "cell_type": "code",
      "source": [],
      "outputs": [],
      "execution_count": 0,
      "metadata": {
        "application/vnd.databricks.v1+cell": {
          "title": "",
          "showTitle": false,
          "inputWidgets": {},
          "nuid": "1f1213c3-2295-42c7-b6f2-2c1fc5b74777"
        }
      }
    }
  ],
  "metadata": {
    "kernelspec": {
      "display_name": "Python 3",
      "language": "python",
      "name": "python3"
    },
    "language_info": {
      "mimetype": "text/x-python",
      "name": "python",
      "pygments_lexer": "ipython3",
      "codemirror_mode": {
        "name": "ipython",
        "version": 3
      },
      "version": "3.9.1",
      "nbconvert_exporter": "python",
      "file_extension": ".py"
    },
    "application/vnd.databricks.v1+notebook": {
      "notebookName": "Fundamentals-lecture5b-inference-decisions-unGRADED",
      "dashboards": [],
      "notebookMetadata": {
        "pythonIndentUnit": 2
      },
      "language": "python",
      "widgets": {},
      "notebookOrigID": 2372252794354822
    },
    "nteract": {
      "version": "0.28.0"
    }
  },
  "nbformat": 4,
  "nbformat_minor": 0
}