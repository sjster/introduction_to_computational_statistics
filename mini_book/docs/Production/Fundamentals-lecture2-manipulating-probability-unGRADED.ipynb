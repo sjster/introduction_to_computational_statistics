{
 "cells": [
  {
   "cell_type": "markdown",
   "metadata": {},
   "source": [
    "## Empirical modeling\n",
    "\n",
    "Our goal is to learn from data through construction of statistical models.  Explicit in this is statistics which demands understanding and adherance to rules of probability.  In this section, we will lay out the basic foundations of probability and give examples to assist in our understanding.  Our general flow will be to understand the rules of probability and how to manipulate them, move to probability distributions and descriptive statistics, touch on likelihood and Bayes, and end with a discussion on inference.   \n",
    "\n",
    "<br>\n",
    "<br>\n",
    "<hr style=\"border:2px solid blue\"> </hr>"
   ]
  },
  {
   "cell_type": "markdown",
   "metadata": {},
   "source": [
    "## Principals of Probability\n",
    "\n",
    "In this section, we will lay out the principals guiding our models -- probability and statistics.  \n",
    "\n",
    "Outline of discussion:\n",
    "    \n",
    "* Stochastic processes -- chance regularities\n",
    "* Beleif and probability\n",
    "* Rules of probabillity\n",
    "* Factoring joing probabilities\n",
    "\n",
    "General references:\n",
    "  \n",
    "+ Statistical Inference (9780534243128): Casella, George, Berger, Roger L.  \n",
    "+ Probability Theory and Statistical Inference: Empirical Modeling with Observational Data (9781107185142): Spanos, A.  \n",
    "+ Bayesian Models: A Statistical Primer for Ecologists (9780691159287): Hobbs, N. Thompson, Hooten, Mevin B.  \n",
    "+ A First Course in Bayesian Statistical Methods (0387922997): Hoff, Peter D.\n",
    "\n",
    "<br>\n",
    "<br>\n",
    "<hr style=\"border:2px solid blue\"> </hr>"
   ]
  },
  {
   "cell_type": "markdown",
   "metadata": {},
   "source": [
    "## Chance regularities\n",
    "\n",
    "The processes we are interested in are non-deterministic (exhibits chance) where patterns reveal themselves (show regularities) after collection lots of data.  Arguably, modeern statistics started with quantifying betting odds in dice games such as the sum of spots (for example, see [Feldman and Morgan](http://jse.amstat.org/v11n2/feldman.html) for a discussion of HOG).  To illustrate this, consider a game of dice where we throw 2 dice and sum the dots.  Let's simulate this in python and look at the data."
   ]
  },
  {
   "cell_type": "code",
   "execution_count": 1,
   "metadata": {},
   "outputs": [
    {
     "data": {
      "text/html": [
       "<div>\n",
       "<style scoped>\n",
       "    .dataframe tbody tr th:only-of-type {\n",
       "        vertical-align: middle;\n",
       "    }\n",
       "\n",
       "    .dataframe tbody tr th {\n",
       "        vertical-align: top;\n",
       "    }\n",
       "\n",
       "    .dataframe thead th {\n",
       "        text-align: right;\n",
       "    }\n",
       "</style>\n",
       "<table border=\"1\" class=\"dataframe\">\n",
       "  <thead>\n",
       "    <tr style=\"text-align: right;\">\n",
       "      <th></th>\n",
       "      <th>die1</th>\n",
       "      <th>die2</th>\n",
       "      <th>dots</th>\n",
       "    </tr>\n",
       "  </thead>\n",
       "  <tbody>\n",
       "    <tr>\n",
       "      <th>0</th>\n",
       "      <td>6</td>\n",
       "      <td>2</td>\n",
       "      <td>8</td>\n",
       "    </tr>\n",
       "    <tr>\n",
       "      <th>1</th>\n",
       "      <td>6</td>\n",
       "      <td>4</td>\n",
       "      <td>10</td>\n",
       "    </tr>\n",
       "    <tr>\n",
       "      <th>2</th>\n",
       "      <td>1</td>\n",
       "      <td>6</td>\n",
       "      <td>7</td>\n",
       "    </tr>\n",
       "    <tr>\n",
       "      <th>3</th>\n",
       "      <td>5</td>\n",
       "      <td>3</td>\n",
       "      <td>8</td>\n",
       "    </tr>\n",
       "    <tr>\n",
       "      <th>4</th>\n",
       "      <td>3</td>\n",
       "      <td>5</td>\n",
       "      <td>8</td>\n",
       "    </tr>\n",
       "    <tr>\n",
       "      <th>5</th>\n",
       "      <td>5</td>\n",
       "      <td>2</td>\n",
       "      <td>7</td>\n",
       "    </tr>\n",
       "    <tr>\n",
       "      <th>6</th>\n",
       "      <td>1</td>\n",
       "      <td>6</td>\n",
       "      <td>7</td>\n",
       "    </tr>\n",
       "    <tr>\n",
       "      <th>7</th>\n",
       "      <td>6</td>\n",
       "      <td>5</td>\n",
       "      <td>11</td>\n",
       "    </tr>\n",
       "    <tr>\n",
       "      <th>8</th>\n",
       "      <td>2</td>\n",
       "      <td>4</td>\n",
       "      <td>6</td>\n",
       "    </tr>\n",
       "    <tr>\n",
       "      <th>9</th>\n",
       "      <td>6</td>\n",
       "      <td>6</td>\n",
       "      <td>12</td>\n",
       "    </tr>\n",
       "  </tbody>\n",
       "</table>\n",
       "</div>"
      ],
      "text/plain": [
       "   die1  die2  dots\n",
       "0     6     2     8\n",
       "1     6     4    10\n",
       "2     1     6     7\n",
       "3     5     3     8\n",
       "4     3     5     8\n",
       "5     5     2     7\n",
       "6     1     6     7\n",
       "7     6     5    11\n",
       "8     2     4     6\n",
       "9     6     6    12"
      ]
     },
     "execution_count": 1,
     "metadata": {},
     "output_type": "execute_result"
    }
   ],
   "source": [
    "## simulate 500 rolls of 2 dice using random sampling with replacement\n",
    "import random\n",
    "import pandas as pd\n",
    "random.seed(13457)\n",
    "total_rolls = 1000 \n",
    "numbers = range(0,total_rolls-1)\n",
    "evens = list(filter(lambda x: x % 2, numbers))\n",
    "odds = [x+1 for x in evens]\n",
    "\n",
    "dice = [1, 2, 3, 4, 5, 6]\n",
    "rolls = random.choices(dice,k=total_rolls)\n",
    "rolls1 = [rolls[i] for i in evens]\n",
    "rolls2 = [rolls[i] for i in odds]\n",
    "\n",
    "df = pd.DataFrame({'die1' : rolls1,\n",
    "                   'die2' : rolls2})\n",
    "df.loc[:,'dots'] = df.sum(axis=1)\n",
    "\n",
    "## look at the first 10 dice throws\n",
    "df.head(n=10)"
   ]
  },
  {
   "cell_type": "code",
   "execution_count": 16,
   "metadata": {},
   "outputs": [
    {
     "data": {
      "image/png": "[encoded data removed]",
      "text/plain": [
       "<Figure size 432x288 with 1 Axes>"
      ]
     },
     "metadata": {
      "needs_background": "light"
     },
     "output_type": "display_data"
    }
   ],
   "source": [
    "# view the first 50 throws\n",
    "tplot = df['dots'].head(n=50).plot()"
   ]
  },
  {
   "cell_type": "code",
   "execution_count": 17,
   "metadata": {},
   "outputs": [
    {
     "data": {
      "text/plain": [
       "7     92\n",
       "6     79\n",
       "8     73\n",
       "9     47\n",
       "5     46\n",
       "10    40\n",
       "4     35\n",
       "3     32\n",
       "11    27\n",
       "12    15\n",
       "2     14\n",
       "Name: dots, dtype: int64"
      ]
     },
     "execution_count": 17,
     "metadata": {},
     "output_type": "execute_result"
    }
   ],
   "source": [
    "# summarize the dot counts\n",
    "df['dots'].value_counts()"
   ]
  },
  {
   "cell_type": "code",
   "execution_count": 18,
   "metadata": {},
   "outputs": [
    {
     "data": {
      "image/png": "[encoded data removed]",
      "text/plain": [
       "<Figure size 432x288 with 1 Axes>"
      ]
     },
     "metadata": {
      "needs_background": "light"
     },
     "output_type": "display_data"
    }
   ],
   "source": [
    "# plot the frequencies as counts\n",
    "h = df.hist(column='dots', bins=11)"
   ]
  },
  {
   "cell_type": "markdown",
   "metadata": {},
   "source": [
    "In this simulated game, we notice:\n",
    "\n",
    "    * we are not able to predice with certainty the next throw  \n",
    "    * some combinations occur with higher frequency  \n",
    "    * the shape of the tabulated data is roughly triangular  "
   ]
  },
  {
   "cell_type": "markdown",
   "metadata": {},
   "source": [
    "## Belief and probability\n",
    "\n",
    "So, from this and maybe experience, we see that 7's occur more frequently than 12's, 5's and 9's about the same, etc, so we have a beleif.  How do we go from a 'hunch' to a quantified understanding of the game?  The answer is statistics and probability.\n",
    "\n",
    "\n",
    "<br>\n",
    "<br>\n",
    "<hr style=\"border:2px solid blue\"> </hr>"
   ]
  },
  {
   "cell_type": "markdown",
   "metadata": {},
   "source": [
    "## Sample space, outcomes and events\n",
    "\n",
    "To get at an understanding of probability, we need some definitions.\n",
    "\n",
    "1. outcomes -- mutually exclusive and exhaustive list of possible results in a model  \n",
    "2. events -- sets containing zero or more outcomes, we define events we are interested in  \n",
    "3. sample space -- set of all possible outcomes (must be collectively exhaustive and mutually exclusive). \n",
    "\n",
    "Consider the dice game.\n",
    "\n",
    "Outcomes: 2,3,4,5,6,7,8,9,10,11,12  \n",
    "Events: up to us, what game we play, could be evens vs odds for instance  \n",
    "Sample space: 2,3,4,5,6,7,8,9,10,11,12  \n",
    "\n",
    "Throwing 3 coins, counting the heads, evens wins \n",
    "\n",
    "Outcomes: 0,1,2,3  \n",
    "Events: {0,2}, {1,3}  \n",
    "Sample space: 0,1,2,3  \n",
    "\n",
    "To conform with the set theory behind this, the event space (\\\\(\\mathcal{F}\\\\)) must conform to a series of conditions:\n",
    "\n",
    "1. the event space contains the sample space \\\\(S \\in \\mathcal{F}\\\\)   \n",
    "2. the event space is closed under compliments, ie if \\\\(E \\in \\mathcal{F}, E^c \\in \\mathcal{F}\\\\)  \n",
    "3. the event space is closed under countable unions, \\\\(E_i \\in \\mathcal{F}\\\\) for i=1,2,..., then \\\\((\\bigcup_{i=1}^{\\infty}E_i) \\in \\mathcal{F}\\\\)\n",
    "\n",
    "For completeness, we would need to include the empty set and the sample space to both event lists if we had wanted to enumerate the events in the event space.\n",
    "\n",
    "\n",
    "\n",
    "<br>\n",
    "<br>\n",
    "<hr style=\"border:2px solid blue\"> </hr>"
   ]
  },
  {
   "cell_type": "markdown",
   "metadata": {},
   "source": [
    "### Probability Space and Probability\n",
    "\n",
    "Armed with some definitions of outcomes and events, we are finally ready to talk about probability.\n",
    "\n",
    "A probability space is a combination of a sample space, event space, and probability function.  The probability function is a real-valued function mapping events to the interval [0,1].  The probability function adheres to the Axioms of Probability (Kolmogorov Axioms).  These are summarized as:\n",
    "    \n",
    "1. the probability of an event is a real number on the interval [0,1]  \n",
    "    \n",
    "    $$0 \\le P(E) \\le 1$$  \n",
    "    <br>\n",
    "2. the probability of at least one event occuring is 1  \n",
    "    \n",
    "    $$P(S) = 1$$ where S is the sample space  \n",
    "    <br>\n",
    "3. countable mutually exclusive sets of events satisfy the following  \n",
    "    \n",
    "    $$P(\\bigcup_{i=1}^\\infty E_i) = \\sum_{i=1}^\\infty P(E_i)$$  \n",
    "<br>\n",
    "<br>\n",
    "<br>\n",
    "<hr style=\"border:2px solid blue\"> </hr>"
   ]
  },
  {
   "cell_type": "markdown",
   "metadata": {},
   "source": [
    "## Addition rules\n",
    "\n",
    "Addition rules deal with unions (\\\\(\\cup\\\\)) of events.  These can be thought of OR probabilities.  \n",
    "\n",
    "(\\\\(\\bigcup\\\\) - non-repeating superset, \\\\(\\bigcap\\\\) - common elements)  \n",
    "\n",
    "$$P(A \\cup B) = P(A) + P(B) - P(A \\cap B)$$\n",
    "\n",
    "    or when A and B are mutually exclusive\n",
    "    \n",
    "$$P(A \\cup B) = P(A) + P(B)$$\n",
    "\n",
    "\n",
    "In the figure below, A represents a case where events in the two shaded regions are mutually exclusive, ie there are no overlapping areas.  In B, the overlapping area is the intersection (\\\\(\\cap\\\\)) of the two areas.\n",
    "![Figure 1](sets.jpg)\n",
    "\n",
    "<br>\n",
    "<br>\n",
    "<hr style=\"border:2px solid blue\"> </hr>"
   ]
  },
  {
   "cell_type": "markdown",
   "metadata": {},
   "source": [
    "## Multiplication rules\n",
    "\n",
    "Multiplication rules deal with intersections (\\\\(\\cup\\\\)) of events.  These can be thought of AND probabilities.  \n",
    "\n",
    "($\\cup$ - non-repeating superset, $\\cap$ - common elements)  \n",
    "\n",
    "Dependent  \n",
    "$$P(A \\cap B) = P(A) \\ast P(B|A)$$ \n",
    "\n",
    "Independent  \n",
    "$$P(A \\cap B) = P(A) \\ast P(B)$$   \n",
    "\n",
    "Mutually exclusive  \n",
    "$$P(A \\cap B) = 0$$\n",
    "\n",
    "<br>\n",
    "<br>\n",
    "<hr style=\"border:2px solid blue\"> </hr>"
   ]
  },
  {
   "cell_type": "markdown",
   "metadata": {},
   "source": [
    "## Conditional, Independent, disjoint, exchangeable\n",
    "\n",
    "Conditional  \n",
    "$$P(A|B) = \\frac{P(A,B)}{P(B)}$$  \n",
    "\n",
    "Independent  \n",
    "$$P(A,B) = P(A) \\ast P(B)$$  \n",
    "\n",
    "Disjoint  \n",
    "$$P(A,B) = 0$$\n",
    "\n",
    "Exhangeable  \n",
    "$$P(A then B) = P(B then A)$$\n",
    "\n",
    "<br>\n",
    "<br>\n",
    "<hr style=\"border:2px solid blue\"> </hr>"
   ]
  },
  {
   "cell_type": "markdown",
   "metadata": {},
   "source": [
    "## Factoring joint probabilities\n",
    "\n",
    "Given a joint probability, we often need to simplify to get to some tractable or known distribution.  We can do this via the rules given above and the chain rule.\n",
    "\n",
    "$$P(A,B) = P(A|B) \\ast P(B)$$  \n",
    "\n",
    "$$P(A,B,C) = P(A|B,C) \\ast P(B,C) = P(A|B,C) \\ast P(B|C) \\ast P(C)$$\n",
    "\n",
    "<br>\n",
    "<br>\n",
    "<hr style=\"border:2px solid blue\"> </hr>"
   ]
  },
  {
   "cell_type": "markdown",
   "metadata": {},
   "source": [
    "## Random variable\n",
    "\n",
    "Random variables are (often) real-valued functions mapping outcomes to a measureable space.  In set notation, this looks like:  \n",
    "\n",
    "$$X: \\Omega \\to \\mathbb{R}$$\n",
    "\n",
    "This mapping defines the probability giving by X in a measureable set as:  \n",
    "\n",
    "$$P(X \\in S) = P({x \\in \\Omega | X(x) \\in S})$$ \n",
    "\n",
    "<br>\n",
    "<br>\n",
    "<hr style=\"border:2px solid blue\"> </hr>"
   ]
  },
  {
   "cell_type": "markdown",
   "metadata": {},
   "source": [
    "## Random sample, experiment, trial\n",
    "\n",
    "Random sample = unbiased realization of outcomes  \n",
    "Random experiment = an activity with an observable result    \n",
    "Trial = 1 or more experiments  \n",
    "\n",
    "\n",
    "In the figure and table below, we are plotting and tabulating the results from the roll of two dice.  We did not define the experiment up front, but will do so now for clarity.\n",
    "\n",
    "Experiment = throw 2 dice 500 times  \n",
    "Trial = in this case, there was a single trial of the experiment  \n",
    "Random sample = we have 500 realizations of two dice being thrown  \n",
    "\n",
    "Note, due to how random numbers are generated and used to get the die rolls, we sampled with replacement into a long 1000 long list.  We then pulled the list into two sequences with every other 1 being die1 vs die2.  We could have done this in a for loop rolling both dice in each iteration.  Based on how randon numbers are generated, this would have resulted in the same sequence of die rolls.\n",
    "\n",
    "\n",
    "<br>\n",
    "<br>\n",
    "<hr style=\"border:2px solid blue\"> </hr>"
   ]
  },
  {
   "cell_type": "code",
   "execution_count": 44,
   "metadata": {},
   "outputs": [
    {
     "name": "stdout",
     "output_type": "stream",
     "text": [
      "   die1  die2  dots\n",
      "0     6     2     8\n",
      "1     6     4    10\n",
      "2     1     6     7\n",
      "3     5     3     8\n",
      "4     3     5     8\n",
      "5     5     2     7\n",
      "6     1     6     7\n",
      "7     6     5    11\n",
      "8     2     4     6\n",
      "9     6     6    12\n"
     ]
    }
   ],
   "source": [
    "## look at the first 10 dice throws\n",
    "print(df.head(n=10))"
   ]
  },
  {
   "cell_type": "code",
   "execution_count": 43,
   "metadata": {},
   "outputs": [
    {
     "data": {
      "image/png": "[encoded data removed]",
      "text/plain": [
       "<Figure size 432x288 with 1 Axes>"
      ]
     },
     "metadata": {
      "needs_background": "light"
     },
     "output_type": "display_data"
    }
   ],
   "source": [
    "# view the first 50 throws\n",
    "tplot = df['dots'].head(n=50).plot()"
   ]
  },
  {
   "cell_type": "markdown",
   "metadata": {},
   "source": [
    "## Data generating mechanism\n",
    "\n",
    "This is the actual process we are trying to model.  In the case of the dice, it was the throwing and counting of dots where we are lookign to learn (and use) a statistical model of outcome probabilities.  In a count toss experiment, it is the binary outcome of heads or tails.\n",
    "\n",
    "\n",
    "<br>\n",
    "<br>\n",
    "<hr style=\"border:2px solid blue\"> </hr>"
   ]
  },
  {
   "cell_type": "markdown",
   "metadata": {},
   "source": [
    "### GRADED EVALUATION (15 mins)\n",
    "\n",
    "1. Two events A and B are independent, their joint probability is given as:  \n",
    "\n",
    "  a. \\\\(P(A,B) = P(A) \\ast P(B)\\\\)   \n",
    "  \n",
    "  b. \\\\(P(A,B) = 0\\\\)\n",
    "  \n",
    "  \n",
    "2. Given both a fair coin and 6-side die, we know P(coin) = 1/2 and P(die) = 1/6 for any landing of the coin and die.  What is the joint probability for any of the possible combinations of outcomes?  \n",
    "\n",
    "  a. \\\\(P(A,B) = P(A) \\ast P(B) = \\frac{1}{12}\\\\)   \n",
    "  \n",
    "  b. \\\\(P(A,B) = P(A) + P(B) - P(A or B) = \\frac{1}{3}\\\\)  \n",
    "  \n",
    "  \n",
    "3. In a certain game, you are given \\\\(P(A,B) = 1/12, P(A) = 1/2\\\\) and \\\\(P(B) = \\frac{1}{4}\\\\).  Are the events independent?  \n",
    "\n",
    "  a. no    \n",
    "  \n",
    "  b. yes  \n",
    "  \n",
    "  \n",
    "4.  For the last question, what is \\\\(P(A|B)\\\\)?  \n",
    "\n",
    "  a. \\\\(P(A|B) = P(A,B)/P(B)\\\\)  \n",
    "  \n",
    "  b. 0  \n",
    "  \n",
    "  \n",
    "5. Two events are said to be exchangeable if  \n",
    "\n",
    "  a. The order of occurrence doesn't matter.  \n",
    "  \n",
    "  b. They are independent.  \n",
    "  \n",
    "  \n",
    "6.  A random variable is:  \n",
    "\n",
    "  a. A real valued fuction mapping outcomes to the real number line.  \n",
    "  \n",
    "  b. A real valued fuction mapping occurrence of events to the real interval \\[0,1\\].  \n",
    "  \n",
    "  \n",
    "7. The marginal distribution of X for \\\\(f(x,y) = \\frac{1}{4}xy\\text{, x,y }\\in [0,2]\\\\) is  \n",
    "\n",
    "  a. \\\\(\\frac{1}{2}x\\\\)  \n",
    "  \n",
    "  b. \\\\(\\frac{1}{2}y\\\\)  \n",
    "   \n",
    "<br>\n",
    "<br>\n",
    "<hr style=\"border:2px solid blue\"> </hr>"
   ]
  },
  {
   "cell_type": "code",
   "execution_count": null,
   "metadata": {},
   "outputs": [],
   "source": []
  }
 ],
 "metadata": {
  "kernelspec": {
   "display_name": "Python 3",
   "language": "python",
   "name": "python3"
  },
  "language_info": {
   "codemirror_mode": {
    "name": "ipython",
    "version": 3
   },
   "file_extension": ".py",
   "mimetype": "text/x-python",
   "name": "python",
   "nbconvert_exporter": "python",
   "pygments_lexer": "ipython3",
   "version": "3.8.8"
  }
 },
 "nbformat": 4,
 "nbformat_minor": 4
}
