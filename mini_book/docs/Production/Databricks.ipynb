{
 "cells": [
  {
   "cell_type": "markdown",
   "metadata": {},
   "source": [
    "## Introduction to the Databricks Environment"
   ]
  },
  {
   "cell_type": "markdown",
   "metadata": {},
   "source": [
    "### The Databricks Data Science Ecosystem\n",
    "\n",
    "Databricks offers a [Community Edition](https://community.cloud.databricks.com/login.html) of their Data Science ecosystem for running experiments and notebooks. You can sign up for a free account and start running the notebooks for the course.\n",
    "\n",
    "### The Welcome page\n",
    "\n",
    "As you log in, this is the screen that you see.\n",
    "\n",
    "![Welcome page](images/welcome_page.png)"
   ]
  },
  {
   "cell_type": "markdown",
   "metadata": {},
   "source": [
    "You can import a notebook into the workspace using the tab on the left. Use it to import the notebooks for the course.\n",
    "\n",
    "\n",
    "![Import notebooks](images/import.png)"
   ]
  },
  {
   "cell_type": "markdown",
   "metadata": {},
   "source": [
    "![Import notebooks](images/import2.png)"
   ]
  },
  {
   "cell_type": "markdown",
   "metadata": {},
   "source": [
    "Upload a notebook or provide a path to a notebook. Once it has been successfully uploaded, you should see a page such as the one shown below.\n",
    "\n",
    "\n",
    "![Imported notebooks](images/import3.png)"
   ]
  },
  {
   "cell_type": "markdown",
   "metadata": {},
   "source": [
    "### The Cluster Page\n",
    "\n",
    "Launch a cluster to run the notebook by selecting the configuration for the image.\n",
    "\n",
    "![Cluster launch page](images/cluster_launch.png)"
   ]
  },
  {
   "cell_type": "markdown",
   "metadata": {},
   "source": [
    "Once launched, you should see a green circle.\n",
    "\n",
    "![Cluster launch page](images/cluster_active.png)"
   ]
  },
  {
   "cell_type": "markdown",
   "metadata": {},
   "source": [
    "You can click on the Clusters tab on the left and check the status of the available clusters.\n",
    "\n",
    "![Cluster launch page](images/cluster_list.png)"
   ]
  },
  {
   "cell_type": "markdown",
   "metadata": {},
   "source": [
    "If any libraries were installed during the creation of the cluster, they would show up here.\n",
    "\n",
    "![Cluster launch page](images/cluster_library.png)"
   ]
  },
  {
   "cell_type": "markdown",
   "metadata": {},
   "source": [
    "Install a Python library by providing the library name and a version. It is a good idea to specify the version explicitly.\n",
    "\n",
    "![Cluster launch page](images/cluster_library2.png)"
   ]
  },
  {
   "cell_type": "markdown",
   "metadata": {},
   "source": [
    "### The Notebook Interface\n",
    "\n",
    "Attach a running cluster to the notebook\n",
    "\n",
    "![Cluster launch page](images/notebook_cluster.png)"
   ]
  },
  {
   "cell_type": "markdown",
   "metadata": {},
   "source": [
    "The File dropdown menu\n",
    "\n",
    "![Cluster launch page](images/notebook_file.png)"
   ]
  },
  {
   "cell_type": "markdown",
   "metadata": {},
   "source": [
    "The Edit dropdown menu\n",
    "\n",
    "![Cluster launch page](images/notebook_edit.png)"
   ]
  },
  {
   "cell_type": "markdown",
   "metadata": {},
   "source": [
    "Execute the code cell.\n",
    "\n",
    "![Cluster launch page](images/code_run.png)"
   ]
  },
  {
   "cell_type": "markdown",
   "metadata": {},
   "source": [
    "### Git Integration\n",
    "\n",
    "Integrate with a Git repository\n",
    "\n",
    "![Cluster launch page](images/Git.png)"
   ]
  },
  {
   "cell_type": "markdown",
   "metadata": {},
   "source": [
    "Version control the notebook and save to the remote Git repository.\n",
    "\n",
    "![Cluster launch page](images/version.png)"
   ]
  },
  {
   "cell_type": "code",
   "execution_count": null,
   "metadata": {},
   "outputs": [],
   "source": []
  }
 ],
 "metadata": {
  "kernelspec": {
   "display_name": "Python 3",
   "language": "python",
   "name": "python3"
  },
  "language_info": {
   "codemirror_mode": {
    "name": "ipython",
    "version": 3
   },
   "file_extension": ".py",
   "mimetype": "text/x-python",
   "name": "python",
   "nbconvert_exporter": "python",
   "pygments_lexer": "ipython3",
   "version": "3.8.3"
  }
 },
 "nbformat": 4,
 "nbformat_minor": 4
}
