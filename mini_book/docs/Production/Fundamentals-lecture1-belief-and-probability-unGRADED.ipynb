{
 "cells": [
  {
   "cell_type": "markdown",
   "metadata": {},
   "source": [
    "## Probability"
   ]
  },
  {
   "cell_type": "markdown",
   "metadata": {},
   "source": [
    "### Empirical modeling\n",
    "\n",
    "Our goal is to learn from data through construction of statistical models.  Explicit in this is statistics which demands understanding and adherance to rules of probability.  In this section, we will lay out the basic foundations of probability and give examples to assist in our understanding.  Our general flow will be to understand the rules of probability and how to manipulate them, move to probability distributions and descriptive statistics, touch on likelihood and Bayes, and end with a discussion on inference.   \n",
    "\n",
    "<br>\n",
    "<br>\n",
    "<hr style=\"border:2px solid blue\"> </hr>"
   ]
  },
  {
   "cell_type": "markdown",
   "metadata": {},
   "source": [
    "### Principals of Probability\n",
    "\n",
    "In this section, we will lay out the principals guiding our models -- probability and statistics.  \n",
    "\n",
    "Outline of discussion:\n",
    "    \n",
    "* Stochastic processes -- chance regularities\n",
    "* Beleif and probability\n",
    "* Rules of probabillity\n",
    "* Factoring joing probabilities\n",
    "\n",
    "General references:\n",
    "  \n",
    "+ Statistical Inference (9780534243128): Casella, George, Berger, Roger L.  \n",
    "+ Probability Theory and Statistical Inference: Empirical Modeling with Observational Data (9781107185142): Spanos, A.  \n",
    "+ Bayesian Models: A Statistical Primer for Ecologists (9780691159287): Hobbs, N. Thompson, Hooten, Mevin B.  \n",
    "+ A First Course in Bayesian Statistical Methods (0387922997): Hoff, Peter D.\n",
    "\n",
    "<br>\n",
    "<br>\n",
    "<hr style=\"border:2px solid blue\"> </hr>"
   ]
  },
  {
   "cell_type": "markdown",
   "metadata": {},
   "source": [
    "### Chance regularities\n",
    "\n",
    "The processes we are interested in are non-deterministic (exhibits chance) where patterns reveal themselves (show regularities) after collection lots of data.  Arguably, modeern statistics started with quantifying betting odds in dice games such as the sum of spots (for example, see [Feldman and Morgan](http://jse.amstat.org/v11n2/feldman.html) for a discussion of HOG).  To illustrate this, consider a game of dice where we throw 2 dice and sum the dots.  Let's simulate this in python and look at the data."
   ]
  },
  {
   "cell_type": "code",
   "execution_count": 1,
   "metadata": {},
   "outputs": [
    {
     "data": {
      "text/html": [
       "<div>\n",
       "<style scoped>\n",
       "    .dataframe tbody tr th:only-of-type {\n",
       "        vertical-align: middle;\n",
       "    }\n",
       "\n",
       "    .dataframe tbody tr th {\n",
       "        vertical-align: top;\n",
       "    }\n",
       "\n",
       "    .dataframe thead th {\n",
       "        text-align: right;\n",
       "    }\n",
       "</style>\n",
       "<table border=\"1\" class=\"dataframe\">\n",
       "  <thead>\n",
       "    <tr style=\"text-align: right;\">\n",
       "      <th></th>\n",
       "      <th>die1</th>\n",
       "      <th>die2</th>\n",
       "      <th>dots</th>\n",
       "    </tr>\n",
       "  </thead>\n",
       "  <tbody>\n",
       "    <tr>\n",
       "      <th>0</th>\n",
       "      <td>6</td>\n",
       "      <td>2</td>\n",
       "      <td>8</td>\n",
       "    </tr>\n",
       "    <tr>\n",
       "      <th>1</th>\n",
       "      <td>6</td>\n",
       "      <td>4</td>\n",
       "      <td>10</td>\n",
       "    </tr>\n",
       "    <tr>\n",
       "      <th>2</th>\n",
       "      <td>1</td>\n",
       "      <td>6</td>\n",
       "      <td>7</td>\n",
       "    </tr>\n",
       "    <tr>\n",
       "      <th>3</th>\n",
       "      <td>5</td>\n",
       "      <td>3</td>\n",
       "      <td>8</td>\n",
       "    </tr>\n",
       "    <tr>\n",
       "      <th>4</th>\n",
       "      <td>3</td>\n",
       "      <td>5</td>\n",
       "      <td>8</td>\n",
       "    </tr>\n",
       "    <tr>\n",
       "      <th>5</th>\n",
       "      <td>5</td>\n",
       "      <td>2</td>\n",
       "      <td>7</td>\n",
       "    </tr>\n",
       "    <tr>\n",
       "      <th>6</th>\n",
       "      <td>1</td>\n",
       "      <td>6</td>\n",
       "      <td>7</td>\n",
       "    </tr>\n",
       "    <tr>\n",
       "      <th>7</th>\n",
       "      <td>6</td>\n",
       "      <td>5</td>\n",
       "      <td>11</td>\n",
       "    </tr>\n",
       "    <tr>\n",
       "      <th>8</th>\n",
       "      <td>2</td>\n",
       "      <td>4</td>\n",
       "      <td>6</td>\n",
       "    </tr>\n",
       "    <tr>\n",
       "      <th>9</th>\n",
       "      <td>6</td>\n",
       "      <td>6</td>\n",
       "      <td>12</td>\n",
       "    </tr>\n",
       "  </tbody>\n",
       "</table>\n",
       "</div>"
      ],
      "text/plain": [
       "   die1  die2  dots\n",
       "0     6     2     8\n",
       "1     6     4    10\n",
       "2     1     6     7\n",
       "3     5     3     8\n",
       "4     3     5     8\n",
       "5     5     2     7\n",
       "6     1     6     7\n",
       "7     6     5    11\n",
       "8     2     4     6\n",
       "9     6     6    12"
      ]
     },
     "execution_count": 1,
     "metadata": {},
     "output_type": "execute_result"
    }
   ],
   "source": [
    "## simulate 500 rolls of 2 dice using random sampling with replacement\n",
    "import random\n",
    "import pandas as pd\n",
    "random.seed(13457)\n",
    "total_rolls = 1000 \n",
    "numbers = range(0,total_rolls-1)\n",
    "evens = list(filter(lambda x: x % 2, numbers))\n",
    "odds = [x+1 for x in evens]\n",
    "\n",
    "dice = [1, 2, 3, 4, 5, 6]\n",
    "rolls = random.choices(dice,k=total_rolls)\n",
    "rolls1 = [rolls[i] for i in evens]\n",
    "rolls2 = [rolls[i] for i in odds]\n",
    "\n",
    "df = pd.DataFrame({'die1' : rolls1,\n",
    "                   'die2' : rolls2})\n",
    "df.loc[:,'dots'] = df.sum(axis=1)\n",
    "\n",
    "## look at the first 10 dice throws\n",
    "df.head(n=10)"
   ]
  },
  {
   "cell_type": "code",
   "execution_count": 16,
   "metadata": {},
   "outputs": [
    {
     "data": {
      "image/png": "[encoded data removed]",
      "text/plain": [
       "<Figure size 432x288 with 1 Axes>"
      ]
     },
     "metadata": {
      "needs_background": "light"
     },
     "output_type": "display_data"
    }
   ],
   "source": [
    "# view the first 50 throws\n",
    "tplot = df['dots'].head(n=50).plot()"
   ]
  },
  {
   "cell_type": "code",
   "execution_count": 17,
   "metadata": {},
   "outputs": [
    {
     "data": {
      "text/plain": [
       "7     92\n",
       "6     79\n",
       "8     73\n",
       "9     47\n",
       "5     46\n",
       "10    40\n",
       "4     35\n",
       "3     32\n",
       "11    27\n",
       "12    15\n",
       "2     14\n",
       "Name: dots, dtype: int64"
      ]
     },
     "execution_count": 17,
     "metadata": {},
     "output_type": "execute_result"
    }
   ],
   "source": [
    "# summarize the dot counts\n",
    "df['dots'].value_counts()"
   ]
  },
  {
   "cell_type": "code",
   "execution_count": 18,
   "metadata": {},
   "outputs": [
    {
     "data": {
      "image/png": "[encoded data removed]",
      "text/plain": [
       "<Figure size 432x288 with 1 Axes>"
      ]
     },
     "metadata": {
      "needs_background": "light"
     },
     "output_type": "display_data"
    }
   ],
   "source": [
    "# plot the frequencies as counts\n",
    "h = df.hist(column='dots', bins=11)"
   ]
  },
  {
   "cell_type": "markdown",
   "metadata": {},
   "source": [
    "In this simulated game, we notice:\n",
    "\n",
    "    * we are not able to predice with certainty the next throw  \n",
    "    * some combinations occur with higher frequency  \n",
    "    * the shape of the tabulated data is roughly triangular  "
   ]
  },
  {
   "cell_type": "markdown",
   "metadata": {},
   "source": [
    "### Belief and probability\n",
    "\n",
    "So, from this and maybe experience, we see that 7's occur more frequently than 12's, 5's and 9's about the same, etc, so we have a beleif.  How do we go from a 'hunch' to a quantified understanding of the game?  The answer is statistics and probability.\n",
    "\n",
    "\n",
    "<br>\n",
    "<br>\n",
    "<hr style=\"border:2px solid blue\"> </hr>"
   ]
  },
  {
   "cell_type": "markdown",
   "metadata": {},
   "source": [
    "### Sample space, outcomes and events\n",
    "\n",
    "To get at an understanding of probability, we need some definitions.\n",
    "\n",
    "1. outcomes -- mutually exclusive and exhaustive list of possible results in a model  \n",
    "2. events -- sets containing zero or more outcomes, we define events we are interested in  \n",
    "3. sample space -- set of all possible outcomes (must be collectively exhaustive and mutually exclusive). \n",
    "\n",
    "Consider the dice game.\n",
    "\n",
    "Outcomes: 2,3,4,5,6,7,8,9,10,11,12  \n",
    "Events: up to us, what game we play, could be evens vs odds for instance  \n",
    "Sample space: 2,3,4,5,6,7,8,9,10,11,12  \n",
    "\n",
    "Throwing 3 coins, counting the heads, evens wins \n",
    "\n",
    "Outcomes: 0,1,2,3  \n",
    "Events: {0,2}, {1,3}  \n",
    "Sample space: 0,1,2,3  \n",
    "\n",
    "To conform with the set theory behind this, the event space (\\\\(\\mathcal{F}\\\\)) must conform to a series of conditions:\n",
    "\n",
    "1. the event space contains the sample space \\\\(S \\in \\mathcal{F}\\\\)   \n",
    "2. the event space is closed under compliments, ie if \\\\(E \\in \\mathcal{F}, E^c \\in \\mathcal{F}\\\\)  \n",
    "3. the event space is closed under countable unions, \\\\(E_i \\in \\mathcal{F}\\\\) for i=1,2,..., then \\\\((\\bigcup_{i=1}^{\\infty}E_i) \\in \\mathcal{F}\\\\)\n",
    "\n",
    "For completeness, we would need to include the empty set and the sample space to both event lists if we had wanted to enumerate the events in the event space.\n",
    "\n",
    "\n",
    "\n",
    "<br>\n",
    "<br>\n",
    "<hr style=\"border:2px solid blue\"> </hr>"
   ]
  },
  {
   "cell_type": "markdown",
   "metadata": {},
   "source": [
    "#### Probability Space and Probability\n",
    "\n",
    "Armed with some definitions of outcomes and events, we are finally ready to talk about probability.\n",
    "\n",
    "A probability space is a combination of a sample space, event space, and probability function.  The probability function is a real-valued function mapping events to the interval [0,1].  The probability function adheres to the Axioms of Probability (Kolmogorov Axioms).  These are summarized as:\n",
    "    \n",
    "1. the probability of an event is a real number on the interval [0,1]  \n",
    "    \n",
    "    $$0 \\le P(E) \\le 1$$  \n",
    "    <br>\n",
    "2. the probability of at least one event occuring is 1  \n",
    "    \n",
    "    $$P(S) = 1$$ where S is the sample space  \n",
    "    <br>\n",
    "3. countable mutually exclusive sets of events satisfy the following  \n",
    "    \n",
    "    $$P(\\bigcup_{i=1}^\\infty E_i) = \\sum_{i=1}^\\infty P(E_i)$$  \n",
    "<br>\n",
    "<br>\n",
    "<br>\n",
    "<hr style=\"border:2px solid blue\"> </hr>"
   ]
  },
  {
   "cell_type": "markdown",
   "metadata": {},
   "source": [
    "#### GRADED EVALUATION (15 mins)\n",
    "\n",
    "1. You repeatedly roll a die (some large number of times, say 1M) and come up with the following probability of roll results for spots 1-6 in order: {0.14,0.10,0.20,0.14,0.14,0.28). The probability of rolling a 3 is greater than that of rolling a 4.\n",
    "\n",
    "   a. True \n",
    "\n",
    "   b. False  \n",
    "  \n",
    "  \n",
    "2. The die in the previous question is fair. \n",
    "\n",
    "   a. True \n",
    "\n",
    "   b. False   \n",
    "  \n",
    "  \n",
    "3. You toss a both a fair coin and a fair die simultaneously. The sample space is \n",
    "\n",
    "   a. {(HT),(1,2,3,4,5,6)} \n",
    "\n",
    "   b. {(H,1),(H,2),(H,3),(H,4),(H,5),(H,6),(T,1),(T,2),(T,3),(T,4),(T,5),(T,6)}   \n",
    "  \n",
    "  \n",
    "4. In this game of tossing a coin and die, the die comes up 6.  What is the probability of the coin landing heads?\n",
    "\n",
    "   a. 0.5 \n",
    "\n",
    "   b. 0.8  \n",
    "\n",
    "6.  You do the above game twice, in the first trial, it came up (H,6).  What is the probability that event will occur in the second go (0.00%)?\n",
    "\n",
    "   a. 0.69\n",
    "\n",
    "   b. 0.08 \n",
    "   \n",
    "<br>\n",
    "<br>\n",
    "<hr style=\"border:2px solid blue\"> </hr>"
   ]
  },
  {
   "cell_type": "code",
   "execution_count": null,
   "metadata": {},
   "outputs": [],
   "source": []
  }
 ],
 "metadata": {
  "kernelspec": {
   "display_name": "Python 3",
   "language": "python",
   "name": "python3"
  },
  "language_info": {
   "codemirror_mode": {
    "name": "ipython",
    "version": 3
   },
   "file_extension": ".py",
   "mimetype": "text/x-python",
   "name": "python",
   "nbconvert_exporter": "python",
   "pygments_lexer": "ipython3",
   "version": "3.9.1"
  }
 },
 "nbformat": 4,
 "nbformat_minor": 4
}
